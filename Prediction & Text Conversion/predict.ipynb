{
 "cells": [
  {
   "cell_type": "code",
   "execution_count": 2,
   "metadata": {},
   "outputs": [],
   "source": [
    "from ultralytics import YOLO\n",
    "\n",
    "# Load the trained model\n",
    "model = YOLO('/Users/arshith/Downloads/intern_srib/runsv10/detect/train/weights/best.pt')"
   ]
  },
  {
   "cell_type": "code",
   "execution_count": 3,
   "metadata": {},
   "outputs": [
    {
     "name": "stdout",
     "output_type": "stream",
     "text": [
      "\n",
      "0: 416x640 1 Expdate, 3 Addresss, 125.3ms\n",
      "Speed: 9.2ms preprocess, 125.3ms inference, 2.5ms postprocess per image at shape (1, 3, 416, 640)\n",
      "[ultralytics.engine.results.Results object with attributes:\n",
      "\n",
      "boxes: ultralytics.engine.results.Boxes object\n",
      "keypoints: None\n",
      "masks: None\n",
      "names: {0: 'Name', 1: 'Name2', 2: 'Num', 3: 'DOB/reg', 4: 'Expdate', 5: 'Issuedate', 6: 'Address'}\n",
      "obb: None\n",
      "orig_img: array([[[254, 254, 254],\n",
      "        [254, 254, 254],\n",
      "        [254, 254, 254],\n",
      "        ...,\n",
      "        [254, 254, 254],\n",
      "        [254, 254, 254],\n",
      "        [254, 254, 254]],\n",
      "\n",
      "       [[254, 254, 254],\n",
      "        [254, 254, 254],\n",
      "        [254, 254, 254],\n",
      "        ...,\n",
      "        [254, 254, 254],\n",
      "        [254, 254, 254],\n",
      "        [254, 254, 254]],\n",
      "\n",
      "       [[254, 254, 254],\n",
      "        [254, 254, 254],\n",
      "        [254, 254, 254],\n",
      "        ...,\n",
      "        [254, 254, 254],\n",
      "        [254, 254, 254],\n",
      "        [254, 254, 254]],\n",
      "\n",
      "       ...,\n",
      "\n",
      "       [[254, 254, 254],\n",
      "        [254, 254, 254],\n",
      "        [254, 254, 254],\n",
      "        ...,\n",
      "        [254, 254, 254],\n",
      "        [254, 254, 254],\n",
      "        [254, 254, 254]],\n",
      "\n",
      "       [[254, 254, 254],\n",
      "        [254, 254, 254],\n",
      "        [254, 254, 254],\n",
      "        ...,\n",
      "        [254, 254, 254],\n",
      "        [254, 254, 254],\n",
      "        [254, 254, 254]],\n",
      "\n",
      "       [[254, 254, 254],\n",
      "        [254, 254, 254],\n",
      "        [254, 254, 254],\n",
      "        ...,\n",
      "        [254, 254, 254],\n",
      "        [254, 254, 254],\n",
      "        [254, 254, 254]]], dtype=uint8)\n",
      "orig_shape: (1022, 1636)\n",
      "path: 'image0.jpg'\n",
      "probs: None\n",
      "save_dir: 'runs/detect/predict'\n",
      "speed: {'preprocess': 9.234905242919922, 'inference': 125.34570693969727, 'postprocess': 2.5141239166259766}]\n"
     ]
    }
   ],
   "source": [
    "import cv2\n",
    "import matplotlib.pyplot as plt\n",
    "\n",
    "# Load the image\n",
    "image_path = '/Users/arshith/Downloads/intern_srib/korean dl dataset/Screenshot 2024-05-26 at 8.07.23 PM.png'  # Replace with the path to your image\n",
    "image = cv2.imread(image_path)\n",
    "#image = cv2.cvtColor(image, cv2.COLOR_BGR2RGB)  # Convert BGR to RGB for displaying\n",
    "\n",
    "# Make a prediction\n",
    "results = model(image)\n",
    "\n",
    "# Show results\n",
    "#results.show()\n",
    "print(results)"
   ]
  },
  {
   "cell_type": "code",
   "execution_count": 4,
   "metadata": {},
   "outputs": [],
   "source": [
    "for result in results:\n",
    "    boxes = result.boxes  # Boxes object for bounding box outputs\n",
    "    masks = result.masks  # Masks object for segmentation masks outputs\n",
    "    keypoints = result.keypoints  # Keypoints object for pose outputs\n",
    "    probs = result.probs  # Probs object for classification outputs\n",
    "    obb = result.obb  # Oriented boxes object for OBB outputs\n",
    "    result.show()  # display to screen\n",
    "    result.save(filename=\"result.jpg\")"
   ]
  },
  {
   "cell_type": "code",
   "execution_count": null,
   "metadata": {},
   "outputs": [],
   "source": []
  }
 ],
 "metadata": {
  "kernelspec": {
   "display_name": "Python 3",
   "language": "python",
   "name": "python3"
  },
  "language_info": {
   "codemirror_mode": {
    "name": "ipython",
    "version": 3
   },
   "file_extension": ".py",
   "mimetype": "text/x-python",
   "name": "python",
   "nbconvert_exporter": "python",
   "pygments_lexer": "ipython3",
   "version": "3.11.5"
  },
  "orig_nbformat": 4,
  "vscode": {
   "interpreter": {
    "hash": "aee8b7b246df8f9039afb4144a1f6fd8d2ca17a180786b69acc140d282b71a49"
   }
  }
 },
 "nbformat": 4,
 "nbformat_minor": 2
}
